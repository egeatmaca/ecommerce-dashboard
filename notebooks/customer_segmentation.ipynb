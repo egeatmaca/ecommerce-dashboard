{
 "cells": [
  {
   "cell_type": "code",
   "execution_count": 1,
   "id": "962fb79e-3dd2-4b11-afa8-31739c866bb4",
   "metadata": {},
   "outputs": [],
   "source": [
    "from sqlalchemy import create_engine\n",
    "import numpy as np\n",
    "import pandas as pd\n",
    "import pandas.io.sql as sqlio\n",
    "import os\n",
    "from dotenv import load_dotenv\n",
    "import datetime as dt\n",
    "from sklearn.preprocessing import MinMaxScaler, StandardScaler, RobustScaler\n",
    "from sklearn.decomposition import PCA\n",
    "from sklearn.cluster import KMeans, AgglomerativeClustering, DBSCAN\n",
    "from sklearn.metrics import silhouette_score\n",
    "from sklearn.pipeline import Pipeline\n",
    "import matplotlib.pyplot as plt\n",
    "import seaborn as sns\n",
    "import gc\n",
    "import pickle as pkl\n",
    "import json"
   ]
  },
  {
   "cell_type": "code",
   "execution_count": 2,
   "id": "0298c072-9149-4a0a-8ef4-da65cc5c526b",
   "metadata": {},
   "outputs": [],
   "source": [
    "RANDOM_STATE = 42"
   ]
  },
  {
   "cell_type": "markdown",
   "id": "60be4ed9-daf6-4cf1-9c9a-9c8ae17a8f4a",
   "metadata": {},
   "source": [
    "# Read Data"
   ]
  },
  {
   "cell_type": "code",
   "execution_count": 3,
   "id": "6279cb56-27f3-4da8-95cd-23d2cd14df5d",
   "metadata": {},
   "outputs": [],
   "source": [
    "# Curry function to initialize postgres engine and return read_query function\n",
    "\n",
    "def make_read_query(protocol=None, user=None, password=None, host=None, port=None, db=None):\n",
    "    load_dotenv()\n",
    "    \n",
    "    protocol = protocol if protocol else 'postgresql+psycopg2'\n",
    "    user = user if user else os.environ.get('POSTGRES_USER')\n",
    "    password = password if password else os.environ.get('POSTGRES_PASSWORD')\n",
    "    host = host if host else 'localhost'\n",
    "    port = port if port else 5432\n",
    "    db = db if db else os.environ.get('POSTGRES_DB')\n",
    "    \n",
    "    db_url = f'{protocol}://{user}:{password}@{host}:{port}/{db}'\n",
    "    engine = create_engine(db_url)\n",
    "\n",
    "    def read_query(query, verbose=True):\n",
    "        if verbose:\n",
    "            print(query, '\\n')\n",
    "            \n",
    "        with engine.connect() as conn:\n",
    "            df = sqlio.read_sql_query(query, conn)\n",
    "\n",
    "        return df\n",
    "\n",
    "    return read_query"
   ]
  },
  {
   "cell_type": "code",
   "execution_count": 4,
   "id": "8dccb914-1ae1-407e-9091-2532cd4fa34a",
   "metadata": {},
   "outputs": [],
   "source": [
    "read_query = make_read_query()"
   ]
  },
  {
   "cell_type": "code",
   "execution_count": 5,
   "id": "0c8e7b23-7fd3-4b6c-aeb4-e7ee7f0206ef",
   "metadata": {},
   "outputs": [
    {
     "name": "stdout",
     "output_type": "stream",
     "text": [
      "SELECT * FROM users_enriched \n",
      "\n"
     ]
    },
    {
     "data": {
      "text/html": [
       "<div>\n",
       "<style scoped>\n",
       "    .dataframe tbody tr th:only-of-type {\n",
       "        vertical-align: middle;\n",
       "    }\n",
       "\n",
       "    .dataframe tbody tr th {\n",
       "        vertical-align: top;\n",
       "    }\n",
       "\n",
       "    .dataframe thead th {\n",
       "        text-align: right;\n",
       "    }\n",
       "</style>\n",
       "<table border=\"1\" class=\"dataframe\">\n",
       "  <thead>\n",
       "    <tr style=\"text-align: right;\">\n",
       "      <th></th>\n",
       "      <th>id</th>\n",
       "      <th>age</th>\n",
       "      <th>gender</th>\n",
       "      <th>country</th>\n",
       "      <th>city</th>\n",
       "      <th>traffic_source</th>\n",
       "      <th>n_orders</th>\n",
       "      <th>n_order_items</th>\n",
       "      <th>revenue</th>\n",
       "      <th>purchased_categories</th>\n",
       "      <th>...</th>\n",
       "      <th>first_purchase_date</th>\n",
       "      <th>last_purchase_date</th>\n",
       "      <th>active_days</th>\n",
       "      <th>inactive_days</th>\n",
       "      <th>avg_days_to_order</th>\n",
       "      <th>items_per_order</th>\n",
       "      <th>avg_order_value</th>\n",
       "      <th>segment</th>\n",
       "      <th>segment_churn_limit</th>\n",
       "      <th>churn_status</th>\n",
       "    </tr>\n",
       "  </thead>\n",
       "  <tbody>\n",
       "    <tr>\n",
       "      <th>0</th>\n",
       "      <td>1</td>\n",
       "      <td>62</td>\n",
       "      <td>F</td>\n",
       "      <td>South Korea</td>\n",
       "      <td>Bucheon City</td>\n",
       "      <td>Search</td>\n",
       "      <td>1</td>\n",
       "      <td>3</td>\n",
       "      <td>159.99</td>\n",
       "      <td>[Jeans, Active, Blazers &amp; Jackets]</td>\n",
       "      <td>...</td>\n",
       "      <td>2022-07-19 11:29:28</td>\n",
       "      <td>2022-07-20 11:05:38</td>\n",
       "      <td>None</td>\n",
       "      <td>None</td>\n",
       "      <td>None</td>\n",
       "      <td>None</td>\n",
       "      <td>None</td>\n",
       "      <td>None</td>\n",
       "      <td>None</td>\n",
       "      <td>None</td>\n",
       "    </tr>\n",
       "    <tr>\n",
       "      <th>1</th>\n",
       "      <td>2</td>\n",
       "      <td>65</td>\n",
       "      <td>M</td>\n",
       "      <td>Brasil</td>\n",
       "      <td>Franca</td>\n",
       "      <td>Organic</td>\n",
       "      <td>1</td>\n",
       "      <td>1</td>\n",
       "      <td>22.00</td>\n",
       "      <td>[Underwear]</td>\n",
       "      <td>...</td>\n",
       "      <td>2022-02-20 10:28:57</td>\n",
       "      <td>2022-02-20 10:28:57</td>\n",
       "      <td>None</td>\n",
       "      <td>None</td>\n",
       "      <td>None</td>\n",
       "      <td>None</td>\n",
       "      <td>None</td>\n",
       "      <td>None</td>\n",
       "      <td>None</td>\n",
       "      <td>None</td>\n",
       "    </tr>\n",
       "    <tr>\n",
       "      <th>2</th>\n",
       "      <td>3</td>\n",
       "      <td>16</td>\n",
       "      <td>M</td>\n",
       "      <td>United States</td>\n",
       "      <td>Hallandale Beach</td>\n",
       "      <td>Organic</td>\n",
       "      <td>4</td>\n",
       "      <td>5</td>\n",
       "      <td>402.20</td>\n",
       "      <td>[Sleep &amp; Lounge, Pants, Active, Jeans, Swim]</td>\n",
       "      <td>...</td>\n",
       "      <td>2023-03-10 07:14:45</td>\n",
       "      <td>2023-08-08 06:13:20</td>\n",
       "      <td>None</td>\n",
       "      <td>None</td>\n",
       "      <td>None</td>\n",
       "      <td>None</td>\n",
       "      <td>None</td>\n",
       "      <td>None</td>\n",
       "      <td>None</td>\n",
       "      <td>None</td>\n",
       "    </tr>\n",
       "    <tr>\n",
       "      <th>3</th>\n",
       "      <td>5</td>\n",
       "      <td>52</td>\n",
       "      <td>F</td>\n",
       "      <td>Brasil</td>\n",
       "      <td>União</td>\n",
       "      <td>Organic</td>\n",
       "      <td>1</td>\n",
       "      <td>3</td>\n",
       "      <td>65.65</td>\n",
       "      <td>[Sweaters, Shorts, Skirts]</td>\n",
       "      <td>...</td>\n",
       "      <td>2022-10-20 06:35:35</td>\n",
       "      <td>2022-10-24 07:19:09</td>\n",
       "      <td>None</td>\n",
       "      <td>None</td>\n",
       "      <td>None</td>\n",
       "      <td>None</td>\n",
       "      <td>None</td>\n",
       "      <td>None</td>\n",
       "      <td>None</td>\n",
       "      <td>None</td>\n",
       "    </tr>\n",
       "    <tr>\n",
       "      <th>4</th>\n",
       "      <td>7</td>\n",
       "      <td>32</td>\n",
       "      <td>M</td>\n",
       "      <td>China</td>\n",
       "      <td>Jingdezhen</td>\n",
       "      <td>Search</td>\n",
       "      <td>1</td>\n",
       "      <td>1</td>\n",
       "      <td>84.21</td>\n",
       "      <td>[Suits &amp; Sport Coats]</td>\n",
       "      <td>...</td>\n",
       "      <td>2022-02-26 15:20:46</td>\n",
       "      <td>2022-02-26 15:20:46</td>\n",
       "      <td>None</td>\n",
       "      <td>None</td>\n",
       "      <td>None</td>\n",
       "      <td>None</td>\n",
       "      <td>None</td>\n",
       "      <td>None</td>\n",
       "      <td>None</td>\n",
       "      <td>None</td>\n",
       "    </tr>\n",
       "  </tbody>\n",
       "</table>\n",
       "<p>5 rows × 21 columns</p>\n",
       "</div>"
      ],
      "text/plain": [
       "   id  age gender        country              city traffic_source  n_orders  \\\n",
       "0   1   62      F    South Korea      Bucheon City         Search         1   \n",
       "1   2   65      M         Brasil            Franca        Organic         1   \n",
       "2   3   16      M  United States  Hallandale Beach        Organic         4   \n",
       "3   5   52      F         Brasil             União        Organic         1   \n",
       "4   7   32      M          China        Jingdezhen         Search         1   \n",
       "\n",
       "   n_order_items  revenue                          purchased_categories  ...  \\\n",
       "0              3   159.99            [Jeans, Active, Blazers & Jackets]  ...   \n",
       "1              1    22.00                                   [Underwear]  ...   \n",
       "2              5   402.20  [Sleep & Lounge, Pants, Active, Jeans, Swim]  ...   \n",
       "3              3    65.65                    [Sweaters, Shorts, Skirts]  ...   \n",
       "4              1    84.21                         [Suits & Sport Coats]  ...   \n",
       "\n",
       "  first_purchase_date  last_purchase_date active_days inactive_days  \\\n",
       "0 2022-07-19 11:29:28 2022-07-20 11:05:38        None          None   \n",
       "1 2022-02-20 10:28:57 2022-02-20 10:28:57        None          None   \n",
       "2 2023-03-10 07:14:45 2023-08-08 06:13:20        None          None   \n",
       "3 2022-10-20 06:35:35 2022-10-24 07:19:09        None          None   \n",
       "4 2022-02-26 15:20:46 2022-02-26 15:20:46        None          None   \n",
       "\n",
       "  avg_days_to_order items_per_order avg_order_value segment  \\\n",
       "0              None            None            None    None   \n",
       "1              None            None            None    None   \n",
       "2              None            None            None    None   \n",
       "3              None            None            None    None   \n",
       "4              None            None            None    None   \n",
       "\n",
       "  segment_churn_limit churn_status  \n",
       "0                None         None  \n",
       "1                None         None  \n",
       "2                None         None  \n",
       "3                None         None  \n",
       "4                None         None  \n",
       "\n",
       "[5 rows x 21 columns]"
      ]
     },
     "execution_count": 5,
     "metadata": {},
     "output_type": "execute_result"
    }
   ],
   "source": [
    "users_enriched = read_query(\"SELECT * FROM users_enriched\")\n",
    "users_enriched.head()"
   ]
  },
  {
   "cell_type": "code",
   "execution_count": 6,
   "id": "e451f1eb-6fde-444b-9a14-fdf360aef142",
   "metadata": {},
   "outputs": [
    {
     "name": "stdout",
     "output_type": "stream",
     "text": [
      "<class 'pandas.core.frame.DataFrame'>\n",
      "RangeIndex: 84011 entries, 0 to 84010\n",
      "Data columns (total 21 columns):\n",
      " #   Column                Non-Null Count  Dtype         \n",
      "---  ------                --------------  -----         \n",
      " 0   id                    84011 non-null  int64         \n",
      " 1   age                   84011 non-null  int64         \n",
      " 2   gender                84011 non-null  object        \n",
      " 3   country               84011 non-null  object        \n",
      " 4   city                  84011 non-null  object        \n",
      " 5   traffic_source        84011 non-null  object        \n",
      " 6   n_orders              84011 non-null  int64         \n",
      " 7   n_order_items         84011 non-null  int64         \n",
      " 8   revenue               84011 non-null  float64       \n",
      " 9   purchased_categories  84011 non-null  object        \n",
      " 10  created_at            84011 non-null  datetime64[ns]\n",
      " 11  first_purchase_date   69073 non-null  datetime64[ns]\n",
      " 12  last_purchase_date    69073 non-null  datetime64[ns]\n",
      " 13  active_days           0 non-null      object        \n",
      " 14  inactive_days         0 non-null      object        \n",
      " 15  avg_days_to_order     0 non-null      object        \n",
      " 16  items_per_order       0 non-null      object        \n",
      " 17  avg_order_value       0 non-null      object        \n",
      " 18  segment               0 non-null      object        \n",
      " 19  segment_churn_limit   0 non-null      object        \n",
      " 20  churn_status          0 non-null      object        \n",
      "dtypes: datetime64[ns](3), float64(1), int64(4), object(13)\n",
      "memory usage: 13.5+ MB\n"
     ]
    }
   ],
   "source": [
    "users_enriched.info()"
   ]
  },
  {
   "cell_type": "code",
   "execution_count": 7,
   "id": "8e3ad193-b280-42e1-924b-04519395ae24",
   "metadata": {},
   "outputs": [],
   "source": [
    "LIFETIME_COLS = ['active_days', 'inactive_days', 'avg_days_to_order', 'items_per_order', 'avg_order_value', 'segment', 'segment_churn_limit', 'churn_status']\n",
    "users_enriched = users_enriched.drop(columns=LIFETIME_COLS)"
   ]
  },
  {
   "cell_type": "code",
   "execution_count": 8,
   "id": "4f58b217-febb-4c33-882d-d6044e09d524",
   "metadata": {},
   "outputs": [
    {
     "data": {
      "text/html": [
       "<div>\n",
       "<style scoped>\n",
       "    .dataframe tbody tr th:only-of-type {\n",
       "        vertical-align: middle;\n",
       "    }\n",
       "\n",
       "    .dataframe tbody tr th {\n",
       "        vertical-align: top;\n",
       "    }\n",
       "\n",
       "    .dataframe thead th {\n",
       "        text-align: right;\n",
       "    }\n",
       "</style>\n",
       "<table border=\"1\" class=\"dataframe\">\n",
       "  <thead>\n",
       "    <tr style=\"text-align: right;\">\n",
       "      <th></th>\n",
       "      <th>id</th>\n",
       "      <th>age</th>\n",
       "      <th>n_orders</th>\n",
       "      <th>n_order_items</th>\n",
       "      <th>revenue</th>\n",
       "      <th>created_at</th>\n",
       "      <th>first_purchase_date</th>\n",
       "      <th>last_purchase_date</th>\n",
       "    </tr>\n",
       "  </thead>\n",
       "  <tbody>\n",
       "    <tr>\n",
       "      <th>count</th>\n",
       "      <td>84011.000000</td>\n",
       "      <td>84011.000000</td>\n",
       "      <td>84011.000000</td>\n",
       "      <td>84011.000000</td>\n",
       "      <td>84011.000000</td>\n",
       "      <td>84011</td>\n",
       "      <td>69073</td>\n",
       "      <td>69073</td>\n",
       "    </tr>\n",
       "    <tr>\n",
       "      <th>mean</th>\n",
       "      <td>50059.769102</td>\n",
       "      <td>41.059897</td>\n",
       "      <td>1.490591</td>\n",
       "      <td>2.163514</td>\n",
       "      <td>128.877396</td>\n",
       "      <td>2021-06-14 10:42:19.902129920</td>\n",
       "      <td>2022-07-16 08:15:15.045710592</td>\n",
       "      <td>2023-01-26 22:31:06.887598848</td>\n",
       "    </tr>\n",
       "    <tr>\n",
       "      <th>min</th>\n",
       "      <td>1.000000</td>\n",
       "      <td>12.000000</td>\n",
       "      <td>0.000000</td>\n",
       "      <td>0.000000</td>\n",
       "      <td>0.000000</td>\n",
       "      <td>2019-01-02 00:06:00</td>\n",
       "      <td>2019-01-06 02:25:41</td>\n",
       "      <td>2019-01-07 01:23:18</td>\n",
       "    </tr>\n",
       "    <tr>\n",
       "      <th>25%</th>\n",
       "      <td>25094.500000</td>\n",
       "      <td>26.000000</td>\n",
       "      <td>1.000000</td>\n",
       "      <td>1.000000</td>\n",
       "      <td>21.990000</td>\n",
       "      <td>2020-02-20 04:11:00</td>\n",
       "      <td>2021-09-13 00:20:14</td>\n",
       "      <td>2022-08-05 16:38:29</td>\n",
       "    </tr>\n",
       "    <tr>\n",
       "      <th>50%</th>\n",
       "      <td>50125.000000</td>\n",
       "      <td>41.000000</td>\n",
       "      <td>1.000000</td>\n",
       "      <td>2.000000</td>\n",
       "      <td>73.100000</td>\n",
       "      <td>2021-05-23 03:56:00</td>\n",
       "      <td>2022-10-20 18:26:08</td>\n",
       "      <td>2023-06-03 21:57:37</td>\n",
       "    </tr>\n",
       "    <tr>\n",
       "      <th>75%</th>\n",
       "      <td>75022.500000</td>\n",
       "      <td>56.000000</td>\n",
       "      <td>2.000000</td>\n",
       "      <td>3.000000</td>\n",
       "      <td>177.000000</td>\n",
       "      <td>2022-09-24 04:51:30</td>\n",
       "      <td>2023-07-30 10:50:57</td>\n",
       "      <td>2023-11-09 01:02:14</td>\n",
       "    </tr>\n",
       "    <tr>\n",
       "      <th>max</th>\n",
       "      <td>100000.000000</td>\n",
       "      <td>70.000000</td>\n",
       "      <td>40.000000</td>\n",
       "      <td>62.000000</td>\n",
       "      <td>3661.570000</td>\n",
       "      <td>2024-01-16 19:46:14.316147</td>\n",
       "      <td>2024-01-21 10:09:51.990337</td>\n",
       "      <td>2024-01-21 18:02:23.533893</td>\n",
       "    </tr>\n",
       "    <tr>\n",
       "      <th>std</th>\n",
       "      <td>28861.594335</td>\n",
       "      <td>17.047718</td>\n",
       "      <td>1.363647</td>\n",
       "      <td>2.216968</td>\n",
       "      <td>166.515183</td>\n",
       "      <td>NaN</td>\n",
       "      <td>NaN</td>\n",
       "      <td>NaN</td>\n",
       "    </tr>\n",
       "  </tbody>\n",
       "</table>\n",
       "</div>"
      ],
      "text/plain": [
       "                  id           age      n_orders  n_order_items       revenue  \\\n",
       "count   84011.000000  84011.000000  84011.000000   84011.000000  84011.000000   \n",
       "mean    50059.769102     41.059897      1.490591       2.163514    128.877396   \n",
       "min         1.000000     12.000000      0.000000       0.000000      0.000000   \n",
       "25%     25094.500000     26.000000      1.000000       1.000000     21.990000   \n",
       "50%     50125.000000     41.000000      1.000000       2.000000     73.100000   \n",
       "75%     75022.500000     56.000000      2.000000       3.000000    177.000000   \n",
       "max    100000.000000     70.000000     40.000000      62.000000   3661.570000   \n",
       "std     28861.594335     17.047718      1.363647       2.216968    166.515183   \n",
       "\n",
       "                          created_at            first_purchase_date  \\\n",
       "count                          84011                          69073   \n",
       "mean   2021-06-14 10:42:19.902129920  2022-07-16 08:15:15.045710592   \n",
       "min              2019-01-02 00:06:00            2019-01-06 02:25:41   \n",
       "25%              2020-02-20 04:11:00            2021-09-13 00:20:14   \n",
       "50%              2021-05-23 03:56:00            2022-10-20 18:26:08   \n",
       "75%              2022-09-24 04:51:30            2023-07-30 10:50:57   \n",
       "max       2024-01-16 19:46:14.316147     2024-01-21 10:09:51.990337   \n",
       "std                              NaN                            NaN   \n",
       "\n",
       "                  last_purchase_date  \n",
       "count                          69073  \n",
       "mean   2023-01-26 22:31:06.887598848  \n",
       "min              2019-01-07 01:23:18  \n",
       "25%              2022-08-05 16:38:29  \n",
       "50%              2023-06-03 21:57:37  \n",
       "75%              2023-11-09 01:02:14  \n",
       "max       2024-01-21 18:02:23.533893  \n",
       "std                              NaN  "
      ]
     },
     "execution_count": 8,
     "metadata": {},
     "output_type": "execute_result"
    }
   ],
   "source": [
    "users_enriched.describe()"
   ]
  },
  {
   "cell_type": "markdown",
   "id": "bdf81e57-7669-4866-bbff-779ea7d14705",
   "metadata": {},
   "source": [
    "# Data Preparation"
   ]
  },
  {
   "cell_type": "code",
   "execution_count": 9,
   "id": "38935d6a-32c4-4f6a-b505-ee2d708d03ac",
   "metadata": {},
   "outputs": [],
   "source": [
    "def split_customers(users_enriched):\n",
    "    inactive_users = users_enriched.loc[users_enriched.n_orders==0]\n",
    "    one_off_customers = users_enriched.loc[users_enriched.n_orders==1]\n",
    "    repeat_purchasers = users_enriched.loc[users_enriched.n_orders>1]\n",
    "    return repeat_purchasers, one_off_customers, inactive_users"
   ]
  },
  {
   "cell_type": "code",
   "execution_count": 10,
   "id": "8a3eed3c-6120-4a35-abaa-097b8d0b232b",
   "metadata": {},
   "outputs": [],
   "source": [
    "def make_lifetime_features(repeat_purchasers, now):\n",
    "    df_lifetime = repeat_purchasers.copy()\n",
    "    df_lifetime['active_days'] = (df_lifetime.last_purchase_date - df_lifetime.first_purchase_date).dt.days + 1\n",
    "    df_lifetime['inactive_days'] = (now - df_lifetime.last_purchase_date).dt.days\n",
    "    df_lifetime['avg_days_to_order'] = df_lifetime['active_days'] / (df_lifetime['n_orders'] - 1)\n",
    "    df_lifetime['items_per_order'] = df_lifetime['n_order_items'] / df_lifetime['n_orders']\n",
    "    df_lifetime['avg_order_value'] = df_lifetime['revenue'] / df_lifetime['n_orders']\n",
    "    df_lifetime = df_lifetime[['active_days', 'inactive_days', 'avg_days_to_order', 'items_per_order', 'avg_order_value']]\n",
    "    return df_lifetime"
   ]
  },
  {
   "cell_type": "code",
   "execution_count": 11,
   "id": "c1002ec7",
   "metadata": {},
   "outputs": [],
   "source": [
    "def plot_histograms(df, columns=None, width=14, height=7, bins=20):\n",
    "    columns = df.columns if columns is None else columns\n",
    "    n_subplots = len(columns)\n",
    "    n_subplot_rows = round(np.sqrt(n_subplots))\n",
    "    n_subplot_cols = n_subplots / n_subplot_rows\n",
    "\n",
    "    n_subplot_cols = int(n_subplot_cols) + 1 if n_subplot_cols % 1 > 0 else int(n_subplot_cols)\n",
    "    \n",
    "    fig, axs = plt.subplots(n_subplot_rows, n_subplot_cols)\n",
    "    fig.set_figwidth(14)\n",
    "    fig.set_figheight(7)\n",
    "\n",
    "    for i, col in enumerate(columns):\n",
    "        ax_row = i // n_subplot_cols\n",
    "        ax_col = i % n_subplot_cols\n",
    "        ax = axs[ax_row,ax_col]\n",
    "        ax.set_title(col)\n",
    "        df[col].hist(bins=bins, ax=ax)"
   ]
  },
  {
   "cell_type": "code",
   "execution_count": 12,
   "id": "490642e5-4d40-4c6d-b931-41082decbc6c",
   "metadata": {},
   "outputs": [
    {
     "name": "stdout",
     "output_type": "stream",
     "text": [
      "Repeat Purchasers: 30731 One-Off Customers 38342 Inactive Users 14938\n"
     ]
    }
   ],
   "source": [
    "repeat_purchasers, one_off_customers, inactive_users = split_customers(users_enriched)\n",
    "print('Repeat Purchasers:', repeat_purchasers.shape[0], \n",
    "      'One-Off Customers', one_off_customers.shape[0], \n",
    "      'Inactive Users', inactive_users.shape[0])"
   ]
  },
  {
   "cell_type": "code",
   "execution_count": 13,
   "id": "00377651-ef6e-47a9-a63a-f98f104718c3",
   "metadata": {},
   "outputs": [
    {
     "data": {
      "text/plain": [
       "Timestamp('2024-01-21 18:02:23.533893')"
      ]
     },
     "execution_count": 13,
     "metadata": {},
     "output_type": "execute_result"
    }
   ],
   "source": [
    "now = users_enriched.last_purchase_date.max()\n",
    "now"
   ]
  },
  {
   "cell_type": "code",
   "execution_count": 14,
   "id": "66eb8c90-60c1-4528-b488-869adf301d8b",
   "metadata": {},
   "outputs": [],
   "source": [
    "df_lifetime = make_lifetime_features(repeat_purchasers, now)"
   ]
  },
  {
   "cell_type": "code",
   "execution_count": 15,
   "id": "49137767-cc61-4329-aa21-bb6888be36ce",
   "metadata": {},
   "outputs": [
    {
     "data": {
      "text/html": [
       "<div>\n",
       "<style scoped>\n",
       "    .dataframe tbody tr th:only-of-type {\n",
       "        vertical-align: middle;\n",
       "    }\n",
       "\n",
       "    .dataframe tbody tr th {\n",
       "        vertical-align: top;\n",
       "    }\n",
       "\n",
       "    .dataframe thead th {\n",
       "        text-align: right;\n",
       "    }\n",
       "</style>\n",
       "<table border=\"1\" class=\"dataframe\">\n",
       "  <thead>\n",
       "    <tr style=\"text-align: right;\">\n",
       "      <th></th>\n",
       "      <th>active_days</th>\n",
       "      <th>inactive_days</th>\n",
       "      <th>avg_days_to_order</th>\n",
       "      <th>items_per_order</th>\n",
       "      <th>avg_order_value</th>\n",
       "    </tr>\n",
       "  </thead>\n",
       "  <tbody>\n",
       "    <tr>\n",
       "      <th>count</th>\n",
       "      <td>30731.000000</td>\n",
       "      <td>30731.000000</td>\n",
       "      <td>30731.000000</td>\n",
       "      <td>30731.000000</td>\n",
       "      <td>30731.000000</td>\n",
       "    </tr>\n",
       "    <tr>\n",
       "      <th>mean</th>\n",
       "      <td>437.179428</td>\n",
       "      <td>245.247307</td>\n",
       "      <td>277.151107</td>\n",
       "      <td>1.452578</td>\n",
       "      <td>86.637559</td>\n",
       "    </tr>\n",
       "    <tr>\n",
       "      <th>std</th>\n",
       "      <td>381.982823</td>\n",
       "      <td>270.456375</td>\n",
       "      <td>268.224506</td>\n",
       "      <td>0.512634</td>\n",
       "      <td>59.879672</td>\n",
       "    </tr>\n",
       "    <tr>\n",
       "      <th>min</th>\n",
       "      <td>1.000000</td>\n",
       "      <td>0.000000</td>\n",
       "      <td>0.333333</td>\n",
       "      <td>1.000000</td>\n",
       "      <td>4.470000</td>\n",
       "    </tr>\n",
       "    <tr>\n",
       "      <th>25%</th>\n",
       "      <td>120.000000</td>\n",
       "      <td>47.000000</td>\n",
       "      <td>84.000000</td>\n",
       "      <td>1.000000</td>\n",
       "      <td>46.740000</td>\n",
       "    </tr>\n",
       "    <tr>\n",
       "      <th>50%</th>\n",
       "      <td>334.000000</td>\n",
       "      <td>146.000000</td>\n",
       "      <td>198.000000</td>\n",
       "      <td>1.333333</td>\n",
       "      <td>72.645000</td>\n",
       "    </tr>\n",
       "    <tr>\n",
       "      <th>75%</th>\n",
       "      <td>674.000000</td>\n",
       "      <td>354.000000</td>\n",
       "      <td>380.000000</td>\n",
       "      <td>1.666667</td>\n",
       "      <td>109.145833</td>\n",
       "    </tr>\n",
       "    <tr>\n",
       "      <th>max</th>\n",
       "      <td>1785.000000</td>\n",
       "      <td>1802.000000</td>\n",
       "      <td>1745.000000</td>\n",
       "      <td>4.000000</td>\n",
       "      <td>869.485000</td>\n",
       "    </tr>\n",
       "  </tbody>\n",
       "</table>\n",
       "</div>"
      ],
      "text/plain": [
       "        active_days  inactive_days  avg_days_to_order  items_per_order  \\\n",
       "count  30731.000000   30731.000000       30731.000000     30731.000000   \n",
       "mean     437.179428     245.247307         277.151107         1.452578   \n",
       "std      381.982823     270.456375         268.224506         0.512634   \n",
       "min        1.000000       0.000000           0.333333         1.000000   \n",
       "25%      120.000000      47.000000          84.000000         1.000000   \n",
       "50%      334.000000     146.000000         198.000000         1.333333   \n",
       "75%      674.000000     354.000000         380.000000         1.666667   \n",
       "max     1785.000000    1802.000000        1745.000000         4.000000   \n",
       "\n",
       "       avg_order_value  \n",
       "count     30731.000000  \n",
       "mean         86.637559  \n",
       "std          59.879672  \n",
       "min           4.470000  \n",
       "25%          46.740000  \n",
       "50%          72.645000  \n",
       "75%         109.145833  \n",
       "max         869.485000  "
      ]
     },
     "execution_count": 15,
     "metadata": {},
     "output_type": "execute_result"
    }
   ],
   "source": [
    "df_lifetime.describe()"
   ]
  },
  {
   "cell_type": "code",
   "execution_count": 16,
   "id": "1cd16b3c-32f4-4e84-9ad2-c3bf14b44bcd",
   "metadata": {},
   "outputs": [
    {
     "data": {
      "image/png": "[encoded data removed]",
      "text/plain": [
       "<Figure size 1400x700 with 6 Axes>"
      ]
     },
     "metadata": {},
     "output_type": "display_data"
    }
   ],
   "source": [
    "plot_histograms(df_lifetime, bins=100)"
   ]
  },
  {
   "cell_type": "code",
   "execution_count": 17,
   "id": "5514ccbb-741d-4ac5-b47b-64d9855d32f7",
   "metadata": {},
   "outputs": [
    {
     "data": {
      "text/plain": [
       "<Axes: >"
      ]
     },
     "execution_count": 17,
     "metadata": {},
     "output_type": "execute_result"
    },
    {
     "data": {
      "image/png": "[encoded data removed]",
      "text/plain": [
       "<Figure size 640x480 with 2 Axes>"
      ]
     },
     "metadata": {},
     "output_type": "display_data"
    }
   ],
   "source": [
    "sns.heatmap(df_lifetime.corr())"
   ]
  },
  {
   "cell_type": "markdown",
   "id": "cc56af54-4307-4343-9022-27abd07ba76c",
   "metadata": {},
   "source": [
    "# Clustering Repeat Purchasers"
   ]
  },
  {
   "cell_type": "code",
   "execution_count": 18,
   "id": "c642f6ed-e074-4e94-be84-d09269628500",
   "metadata": {},
   "outputs": [],
   "source": [
    "def model_results_to_df(results, explode_hyperparams=True):\n",
    "    df = pd.DataFrame(results)\n",
    "    if explode_hyperparams:\n",
    "        df_hyperparams = pd.DataFrame(df['hyperparams'].tolist())\n",
    "        df = pd.concat([df, df_hyperparams], axis=1)\\\n",
    "                .drop(columns='hyperparams')\n",
    "    return df\n",
    "\n",
    "def search_clustering_hyperparams(model_type, hyperparams, X, random_state=None, verbose=True, explode_hyperparams=True):\n",
    "    results = []        \n",
    "    for hyperparams_iter in hyperparams:\n",
    "        if random_state:\n",
    "            hyperparams_iter['random_state'] = random_state\n",
    "        model = model_type(**hyperparams_iter)\n",
    "        y = model.fit_predict(X)\n",
    "        silhouette = silhouette_score(X, y)\n",
    "        inertia = model.inertia_ if model_type == KMeans else None\n",
    "        \n",
    "        results_dict = { \n",
    "            'hyperparams': hyperparams_iter, \n",
    "            'model': model, \n",
    "            'silhouette_score': silhouette,\n",
    "            'inertia': inertia if inertia else cost\n",
    "        }\n",
    "        \n",
    "        results.append(results_dict)\n",
    "\n",
    "        if verbose:\n",
    "            print(hyperparams_iter, f'Silhouette Score: {silhouette}', f'Inertia: {inertia}', sep=' | ')\n",
    "\n",
    "    df_results = model_results_to_df(results, explode_hyperparams=True)\n",
    "    \n",
    "    return df_results"
   ]
  },
  {
   "cell_type": "code",
   "execution_count": 19,
   "id": "03b78d61-8bf9-452e-9266-767c616abf02",
   "metadata": {},
   "outputs": [],
   "source": [
    "def plot_clusters(X, y, figwidth=15, figheight=10, bins=20):\n",
    "    X = pd.DataFrame(X) if type(X) != pd.DataFrame else X\n",
    "    labels = np.unique(y)\n",
    "\n",
    "    fig, axs = plt.subplots(len(labels), len(X.columns))\n",
    "    fig.set_figwidth(figwidth)\n",
    "    fig.set_figheight(figheight)\n",
    "    fig.suptitle('Cluster Feature Histograms')\n",
    "    fig.subplots_adjust(wspace=0.3, hspace=0.3)\n",
    "\n",
    "    col_mins = {}\n",
    "    col_maxs = {}\n",
    "    col_means = {}\n",
    "    for col in X.columns:\n",
    "        col_mins[col] = X[col].min()\n",
    "        col_maxs[col] = X[col].max()\n",
    "        col_means[col] = X[col].mean()\n",
    "\n",
    "    for i, label in enumerate(labels):\n",
    "        X_cluster = X.loc[y==label]\n",
    "        for j, col in enumerate(X.columns):        \n",
    "            ax = axs[i,j]\n",
    "            ax.set_xlim(col_mins[col], col_maxs[col])\n",
    "            if j == 0:\n",
    "                ax.set_ylabel(label)\n",
    "            if i == len(labels) - 1:\n",
    "                ax.set_xlabel(col)\n",
    "            \n",
    "            X_cluster[col].hist(ax=ax, bins=bins)\n",
    "            cluster_col_mean = X_cluster[col].mean()\n",
    "            ymax = pd.cut(X_cluster[col], bins).value_counts().max()\n",
    "            ax.vlines(cluster_col_mean, ymin=0, ymax=ymax, color='tab:orange', label='Cluster Mean')\n",
    "            ax.vlines(col_means[col], ymin=0, ymax=ymax, color='tab:red', label='Sample Mean')\n",
    "\n",
    "    handles, labels = axs[0,0].get_legend_handles_labels()\n",
    "    fig.legend(handles, labels, loc='upper right')"
   ]
  },
  {
   "cell_type": "code",
   "execution_count": 20,
   "id": "721705be-b577-45b0-a47f-730339e40036",
   "metadata": {},
   "outputs": [],
   "source": [
    "X_cols = ['active_days', 'avg_days_to_order', 'avg_order_value']\n",
    "X_raw = df_lifetime[X_cols]"
   ]
  },
  {
   "cell_type": "code",
   "execution_count": 21,
   "id": "5df4710d-4242-474a-9fa4-9c94081589e4",
   "metadata": {},
   "outputs": [],
   "source": [
    "scaler = StandardScaler()\n",
    "X = scaler.fit_transform(X_raw)"
   ]
  },
  {
   "cell_type": "code",
   "execution_count": 22,
   "id": "ea8690a7-cb05-4ce4-8b8f-2a905dc93f18",
   "metadata": {},
   "outputs": [
    {
     "name": "stdout",
     "output_type": "stream",
     "text": [
      "{'n_clusters': 2, 'random_state': 42} | Silhouette Score: 0.4238823797582957 | Inertia: 55629.05141463291\n",
      "{'n_clusters': 3, 'random_state': 42} | Silhouette Score: 0.3465476674541914 | Inertia: 46646.475332710936\n",
      "{'n_clusters': 4, 'random_state': 42} | Silhouette Score: 0.3825803241441824 | Inertia: 32791.797609983565\n",
      "{'n_clusters': 5, 'random_state': 42} | Silhouette Score: 0.343662869474977 | Inertia: 28073.25319844619\n",
      "{'n_clusters': 6, 'random_state': 42} | Silhouette Score: 0.3498438522053427 | Inertia: 23621.65989877087\n",
      "{'n_clusters': 7, 'random_state': 42} | Silhouette Score: 0.33717109560628356 | Inertia: 21099.916532709387\n",
      "{'n_clusters': 8, 'random_state': 42} | Silhouette Score: 0.34136287826472517 | Inertia: 18671.429131833713\n",
      "{'n_clusters': 9, 'random_state': 42} | Silhouette Score: 0.3266250554585075 | Inertia: 17229.523489341424\n",
      "{'n_clusters': 10, 'random_state': 42} | Silhouette Score: 0.32354074410989836 | Inertia: 15542.951965331074\n"
     ]
    }
   ],
   "source": [
    "hyperparams = [{'n_clusters': i} for i in range(2, 11)]\n",
    "results = search_clustering_hyperparams(KMeans, hyperparams, X, random_state=RANDOM_STATE)"
   ]
  },
  {
   "cell_type": "code",
   "execution_count": 23,
   "id": "221bfb85-ef84-4bde-81dc-e4c114492f86",
   "metadata": {},
   "outputs": [
    {
     "data": {
      "text/plain": [
       "<Axes: title={'center': 'Silhouette Score'}, xlabel='n_clusters'>"
      ]
     },
     "execution_count": 23,
     "metadata": {},
     "output_type": "execute_result"
    },
    {
     "data": {
      "image/png": "[encoded data removed]",
      "text/plain": [
       "<Figure size 1400x700 with 2 Axes>"
      ]
     },
     "metadata": {},
     "output_type": "display_data"
    }
   ],
   "source": [
    "fig, axs = plt.subplots(1, 2)\n",
    "fig.set_figwidth(14)\n",
    "fig.set_figheight(7)\n",
    "plt.tight_layout(pad=5)\n",
    "\n",
    "axs[0].set_title('Inertia')\n",
    "results.plot(x='n_clusters', y='inertia', ax=axs[0])\n",
    "\n",
    "axs[1].set_title('Silhouette Score')\n",
    "results.plot(x='n_clusters', y='silhouette_score', ax=axs[1])"
   ]
  },
  {
   "cell_type": "code",
   "execution_count": 24,
   "id": "42eaf824-e428-4277-9174-9e08e4d1157b",
   "metadata": {},
   "outputs": [],
   "source": [
    "model = results.loc[results.n_clusters==4, 'model'].iloc[0]\n",
    "df_lifetime_cluster = df_lifetime.copy()\n",
    "df_lifetime_cluster['cluster'] = model.labels_"
   ]
  },
  {
   "cell_type": "code",
   "execution_count": 25,
   "id": "51d25ae4-c5ce-4f53-bf59-8992963ffe22",
   "metadata": {},
   "outputs": [
    {
     "data": {
      "text/html": [
       "<div>\n",
       "<style scoped>\n",
       "    .dataframe tbody tr th:only-of-type {\n",
       "        vertical-align: middle;\n",
       "    }\n",
       "\n",
       "    .dataframe tbody tr th {\n",
       "        vertical-align: top;\n",
       "    }\n",
       "\n",
       "    .dataframe thead th {\n",
       "        text-align: right;\n",
       "    }\n",
       "</style>\n",
       "<table border=\"1\" class=\"dataframe\">\n",
       "  <thead>\n",
       "    <tr style=\"text-align: right;\">\n",
       "      <th></th>\n",
       "      <th>active_days</th>\n",
       "      <th>avg_days_to_order</th>\n",
       "      <th>avg_order_value</th>\n",
       "    </tr>\n",
       "  </thead>\n",
       "  <tbody>\n",
       "    <tr>\n",
       "      <th>0</th>\n",
       "      <td>746.718670</td>\n",
       "      <td>367.806110</td>\n",
       "      <td>74.510632</td>\n",
       "    </tr>\n",
       "    <tr>\n",
       "      <th>1</th>\n",
       "      <td>300.442550</td>\n",
       "      <td>211.559711</td>\n",
       "      <td>203.843981</td>\n",
       "    </tr>\n",
       "    <tr>\n",
       "      <th>2</th>\n",
       "      <td>169.058704</td>\n",
       "      <td>117.223168</td>\n",
       "      <td>67.141078</td>\n",
       "    </tr>\n",
       "    <tr>\n",
       "      <th>3</th>\n",
       "      <td>1034.051034</td>\n",
       "      <td>895.018346</td>\n",
       "      <td>81.858053</td>\n",
       "    </tr>\n",
       "  </tbody>\n",
       "</table>\n",
       "</div>"
      ],
      "text/plain": [
       "   active_days  avg_days_to_order  avg_order_value\n",
       "0   746.718670         367.806110        74.510632\n",
       "1   300.442550         211.559711       203.843981\n",
       "2   169.058704         117.223168        67.141078\n",
       "3  1034.051034         895.018346        81.858053"
      ]
     },
     "execution_count": 25,
     "metadata": {},
     "output_type": "execute_result"
    }
   ],
   "source": [
    "cluster_centers = scaler.inverse_transform(model.cluster_centers_)\n",
    "cluster_centers = pd.DataFrame(cluster_centers, columns=X_cols)\n",
    "cluster_centers"
   ]
  },
  {
   "cell_type": "code",
   "execution_count": 26,
   "id": "1aee0f5f-b584-497d-9335-255c409fb084",
   "metadata": {},
   "outputs": [
    {
     "data": {
      "text/plain": [
       "cluster\n",
       "2    15204\n",
       "0     8958\n",
       "1     3586\n",
       "3     2983\n",
       "Name: count, dtype: int64"
      ]
     },
     "execution_count": 26,
     "metadata": {},
     "output_type": "execute_result"
    }
   ],
   "source": [
    "df_lifetime_cluster['cluster'].value_counts()"
   ]
  },
  {
   "cell_type": "code",
   "execution_count": 27,
   "id": "33f44587-da10-4b0e-8394-c736cdeeaf7e",
   "metadata": {},
   "outputs": [
    {
     "data": {
      "image/png": "[encoded data removed]",
      "text/plain": [
       "<Figure size 1500x1000 with 12 Axes>"
      ]
     },
     "metadata": {},
     "output_type": "display_data"
    }
   ],
   "source": [
    "plot_clusters(X_raw, model.labels_)"
   ]
  },
  {
   "cell_type": "code",
   "execution_count": 28,
   "id": "561aac1f-50dd-43a6-9eb4-cf94c8f9fb41",
   "metadata": {},
   "outputs": [
    {
     "name": "stdout",
     "output_type": "stream",
     "text": [
      "Cluster Mean / Sample Mean:\n",
      "         active_days  inactive_days  avg_days_to_order  items_per_order  \\\n",
      "cluster                                                                   \n",
      "0           1.711357       0.972498           1.329040         0.965121   \n",
      "1           0.685986       1.099557           0.762478         1.355682   \n",
      "2           0.387428       1.005152           0.423540         0.936461   \n",
      "3           2.363478       0.936649           3.235573         1.001010   \n",
      "\n",
      "         avg_order_value  \n",
      "cluster                   \n",
      "0               0.860198  \n",
      "1               2.350663  \n",
      "2               0.774487  \n",
      "3               0.945549  \n",
      "\n",
      "--------------------------------------------------------------------------------\n",
      "\n",
      "Cluster Mean:\n",
      "         active_days  inactive_days  avg_days_to_order  items_per_order  \\\n",
      "cluster                                                                   \n",
      "0         748.170127     238.502568         368.344922         1.401914   \n",
      "1         299.899052     269.663413         211.321599         1.969234   \n",
      "2         169.375756     246.510721         117.384544         1.360283   \n",
      "3        1033.263828     229.710694         896.742541         1.454045   \n",
      "\n",
      "         avg_order_value  \n",
      "cluster                   \n",
      "0              74.525444  \n",
      "1             203.655742  \n",
      "2              67.099639  \n",
      "3              81.920042  \n",
      "\n",
      "--------------------------------------------------------------------------------\n",
      "\n",
      "\n",
      "Cluster Std:\n",
      "         active_days  inactive_days  avg_days_to_order  items_per_order  \\\n",
      "cluster                                                                   \n",
      "0         280.637365     240.069791         142.426685         0.416579   \n",
      "1         250.257278     295.368721         177.610352         0.657844   \n",
      "2         132.730407     291.850546          91.494053         0.443233   \n",
      "3         260.122190     201.084124         235.596738         0.541183   \n",
      "\n",
      "         avg_order_value  \n",
      "cluster                   \n",
      "0              34.197053  \n",
      "1              76.031194  \n",
      "2              31.494443  \n",
      "3              50.543155  \n",
      "\n",
      "--------------------------------------------------------------------------------\n",
      "\n",
      "\n",
      "Cluster Min:\n",
      "         active_days  inactive_days  avg_days_to_order  items_per_order  \\\n",
      "cluster                                                                   \n",
      "0                343              0          31.794872              1.0   \n",
      "1                  1              0           0.333333              1.0   \n",
      "2                  1              0           0.333333              1.0   \n",
      "3                672              0         421.750000              1.0   \n",
      "\n",
      "         avg_order_value  \n",
      "cluster                   \n",
      "0                  6.190  \n",
      "1                128.495  \n",
      "2                  4.470  \n",
      "3                  6.305  \n",
      "\n",
      "--------------------------------------------------------------------------------\n",
      "\n",
      "\n",
      "Cluster Max:\n",
      "         active_days  inactive_days  avg_days_to_order  items_per_order  \\\n",
      "cluster                                                                   \n",
      "0               1756           1357              699.0              4.0   \n",
      "1               1672           1802             1263.0              4.0   \n",
      "2                600           1667              371.0              4.0   \n",
      "3               1785           1072             1745.0              4.0   \n",
      "\n",
      "         avg_order_value  \n",
      "cluster                   \n",
      "0             231.881667  \n",
      "1             869.485000  \n",
      "2             145.970000  \n",
      "3             328.985000  \n"
     ]
    }
   ],
   "source": [
    "print('Cluster Mean / Sample Mean:', df_lifetime_cluster.groupby('cluster').mean() / df_lifetime_cluster.drop(columns='cluster').mean(), sep='\\n')\n",
    "print('\\n'+80*'-'+'\\n', 'Cluster Mean:', df_lifetime_cluster.groupby('cluster').mean(), sep='\\n')\n",
    "print('\\n'+80*'-'+'\\n', '\\nCluster Std:', df_lifetime_cluster.groupby('cluster').std(), sep='\\n')\n",
    "print('\\n'+80*'-'+'\\n', '\\nCluster Min:', df_lifetime_cluster.groupby('cluster').min(), sep='\\n')\n",
    "print('\\n'+80*'-'+'\\n', '\\nCluster Max:', df_lifetime_cluster.groupby('cluster').max(), sep='\\n')"
   ]
  },
  {
   "cell_type": "code",
   "execution_count": 29,
   "id": "81522669-b021-4f4b-afa8-a07ba97c6df7",
   "metadata": {},
   "outputs": [],
   "source": [
    "segment_map = {\n",
    "    0: 'Loyals',\n",
    "    1: 'High AOV',\n",
    "    2: 'Others',\n",
    "    3: 'Loyals with Low Frequency'\n",
    "}"
   ]
  },
  {
   "cell_type": "code",
   "execution_count": 30,
   "id": "0d93aee7-ea70-4309-bd3a-895ad35f700d",
   "metadata": {},
   "outputs": [],
   "source": [
    "df_lifetime_cluster['cluster'] = df_lifetime_cluster['cluster'].map(segment_map) "
   ]
  },
  {
   "cell_type": "code",
   "execution_count": 31,
   "id": "fda8721f-2664-4279-95d0-f455086a9f50",
   "metadata": {},
   "outputs": [
    {
     "data": {
      "text/html": [
       "<div>\n",
       "<style scoped>\n",
       "    .dataframe tbody tr th:only-of-type {\n",
       "        vertical-align: middle;\n",
       "    }\n",
       "\n",
       "    .dataframe tbody tr th {\n",
       "        vertical-align: top;\n",
       "    }\n",
       "\n",
       "    .dataframe thead th {\n",
       "        text-align: right;\n",
       "    }\n",
       "</style>\n",
       "<table border=\"1\" class=\"dataframe\">\n",
       "  <thead>\n",
       "    <tr style=\"text-align: right;\">\n",
       "      <th></th>\n",
       "      <th>active_days</th>\n",
       "      <th>inactive_days</th>\n",
       "      <th>avg_days_to_order</th>\n",
       "      <th>items_per_order</th>\n",
       "      <th>avg_order_value</th>\n",
       "      <th>cluster</th>\n",
       "    </tr>\n",
       "  </thead>\n",
       "  <tbody>\n",
       "    <tr>\n",
       "      <th>2</th>\n",
       "      <td>151</td>\n",
       "      <td>166</td>\n",
       "      <td>50.333333</td>\n",
       "      <td>1.25</td>\n",
       "      <td>100.5500</td>\n",
       "      <td>Others</td>\n",
       "    </tr>\n",
       "    <tr>\n",
       "      <th>6</th>\n",
       "      <td>1262</td>\n",
       "      <td>76</td>\n",
       "      <td>1262.000000</td>\n",
       "      <td>3.00</td>\n",
       "      <td>271.7450</td>\n",
       "      <td>Loyals with Low Frequency</td>\n",
       "    </tr>\n",
       "    <tr>\n",
       "      <th>8</th>\n",
       "      <td>150</td>\n",
       "      <td>10</td>\n",
       "      <td>150.000000</td>\n",
       "      <td>1.00</td>\n",
       "      <td>88.6750</td>\n",
       "      <td>Others</td>\n",
       "    </tr>\n",
       "    <tr>\n",
       "      <th>9</th>\n",
       "      <td>92</td>\n",
       "      <td>196</td>\n",
       "      <td>30.666667</td>\n",
       "      <td>1.50</td>\n",
       "      <td>81.3875</td>\n",
       "      <td>Others</td>\n",
       "    </tr>\n",
       "    <tr>\n",
       "      <th>10</th>\n",
       "      <td>1</td>\n",
       "      <td>5</td>\n",
       "      <td>1.000000</td>\n",
       "      <td>1.00</td>\n",
       "      <td>63.9750</td>\n",
       "      <td>Others</td>\n",
       "    </tr>\n",
       "    <tr>\n",
       "      <th>...</th>\n",
       "      <td>...</td>\n",
       "      <td>...</td>\n",
       "      <td>...</td>\n",
       "      <td>...</td>\n",
       "      <td>...</td>\n",
       "      <td>...</td>\n",
       "    </tr>\n",
       "    <tr>\n",
       "      <th>83993</th>\n",
       "      <td>274</td>\n",
       "      <td>294</td>\n",
       "      <td>274.000000</td>\n",
       "      <td>1.00</td>\n",
       "      <td>20.5400</td>\n",
       "      <td>Others</td>\n",
       "    </tr>\n",
       "    <tr>\n",
       "      <th>83997</th>\n",
       "      <td>530</td>\n",
       "      <td>149</td>\n",
       "      <td>176.666667</td>\n",
       "      <td>1.25</td>\n",
       "      <td>126.4750</td>\n",
       "      <td>Loyals</td>\n",
       "    </tr>\n",
       "    <tr>\n",
       "      <th>84007</th>\n",
       "      <td>956</td>\n",
       "      <td>312</td>\n",
       "      <td>956.000000</td>\n",
       "      <td>2.00</td>\n",
       "      <td>61.9350</td>\n",
       "      <td>Loyals with Low Frequency</td>\n",
       "    </tr>\n",
       "    <tr>\n",
       "      <th>84009</th>\n",
       "      <td>348</td>\n",
       "      <td>183</td>\n",
       "      <td>116.000000</td>\n",
       "      <td>1.00</td>\n",
       "      <td>35.4975</td>\n",
       "      <td>Others</td>\n",
       "    </tr>\n",
       "    <tr>\n",
       "      <th>84010</th>\n",
       "      <td>358</td>\n",
       "      <td>883</td>\n",
       "      <td>358.000000</td>\n",
       "      <td>1.00</td>\n",
       "      <td>76.2250</td>\n",
       "      <td>Loyals</td>\n",
       "    </tr>\n",
       "  </tbody>\n",
       "</table>\n",
       "<p>30731 rows × 6 columns</p>\n",
       "</div>"
      ],
      "text/plain": [
       "       active_days  inactive_days  avg_days_to_order  items_per_order  \\\n",
       "2              151            166          50.333333             1.25   \n",
       "6             1262             76        1262.000000             3.00   \n",
       "8              150             10         150.000000             1.00   \n",
       "9               92            196          30.666667             1.50   \n",
       "10               1              5           1.000000             1.00   \n",
       "...            ...            ...                ...              ...   \n",
       "83993          274            294         274.000000             1.00   \n",
       "83997          530            149         176.666667             1.25   \n",
       "84007          956            312         956.000000             2.00   \n",
       "84009          348            183         116.000000             1.00   \n",
       "84010          358            883         358.000000             1.00   \n",
       "\n",
       "       avg_order_value                    cluster  \n",
       "2             100.5500                     Others  \n",
       "6             271.7450  Loyals with Low Frequency  \n",
       "8              88.6750                     Others  \n",
       "9              81.3875                     Others  \n",
       "10             63.9750                     Others  \n",
       "...                ...                        ...  \n",
       "83993          20.5400                     Others  \n",
       "83997         126.4750                     Loyals  \n",
       "84007          61.9350  Loyals with Low Frequency  \n",
       "84009          35.4975                     Others  \n",
       "84010          76.2250                     Loyals  \n",
       "\n",
       "[30731 rows x 6 columns]"
      ]
     },
     "execution_count": 31,
     "metadata": {},
     "output_type": "execute_result"
    }
   ],
   "source": [
    "df_lifetime_cluster"
   ]
  },
  {
   "cell_type": "code",
   "execution_count": 32,
   "id": "fa377531-0264-44f3-94b1-34821deada26",
   "metadata": {},
   "outputs": [
    {
     "data": {
      "text/plain": [
       "cluster\n",
       "Others                       15204\n",
       "Loyals                        8958\n",
       "High AOV                      3586\n",
       "Loyals with Low Frequency     2983\n",
       "Name: count, dtype: int64"
      ]
     },
     "execution_count": 32,
     "metadata": {},
     "output_type": "execute_result"
    }
   ],
   "source": [
    "df_lifetime_cluster.cluster.value_counts()"
   ]
  },
  {
   "cell_type": "markdown",
   "id": "9abc48f2-9969-4e9e-80bb-886a09abfb5e",
   "metadata": {},
   "source": [
    "# Flag Potentially Churned Customers"
   ]
  },
  {
   "cell_type": "code",
   "execution_count": 34,
   "id": "e7e6adca-3875-4140-9d5a-0e686be23f53",
   "metadata": {},
   "outputs": [],
   "source": [
    "def add_churn_status(df_lifetime_cluster, percentile=0.9):\n",
    "    cluster_churn_limits = df_lifetime_cluster.groupby('cluster')\\\n",
    "                                              .avg_days_to_order.quantile(percentile)\\\n",
    "                                              .to_frame('churn_limit')\n",
    "    df_lifetime_cluster = df_lifetime_cluster.join(cluster_churn_limits, on='cluster')\n",
    "    churn_idx = df_lifetime_cluster['inactive_days'] > df_lifetime_cluster['churn_limit']\n",
    "    df_lifetime_cluster['churn_status'] = 'Active'\n",
    "    df_lifetime_cluster.loc[churn_idx, 'churn_status'] = 'Churn Likely'\n",
    "    return df_lifetime_cluster"
   ]
  },
  {
   "cell_type": "code",
   "execution_count": 35,
   "id": "ff3d8a54-a27a-432f-8856-ebe541f42fd8",
   "metadata": {},
   "outputs": [],
   "source": [
    "df_lifetime_flagged = add_churn_status(df_lifetime_cluster)"
   ]
  },
  {
   "cell_type": "code",
   "execution_count": 36,
   "id": "7de9a096-ef9f-4357-985a-0341f323b5ca",
   "metadata": {},
   "outputs": [
    {
     "data": {
      "text/html": [
       "<div>\n",
       "<style scoped>\n",
       "    .dataframe tbody tr th:only-of-type {\n",
       "        vertical-align: middle;\n",
       "    }\n",
       "\n",
       "    .dataframe tbody tr th {\n",
       "        vertical-align: top;\n",
       "    }\n",
       "\n",
       "    .dataframe thead th {\n",
       "        text-align: right;\n",
       "    }\n",
       "</style>\n",
       "<table border=\"1\" class=\"dataframe\">\n",
       "  <thead>\n",
       "    <tr style=\"text-align: right;\">\n",
       "      <th></th>\n",
       "      <th>churn_limit</th>\n",
       "    </tr>\n",
       "    <tr>\n",
       "      <th>cluster</th>\n",
       "      <th></th>\n",
       "    </tr>\n",
       "  </thead>\n",
       "  <tbody>\n",
       "    <tr>\n",
       "      <th>High AOV</th>\n",
       "      <td>459.0</td>\n",
       "    </tr>\n",
       "    <tr>\n",
       "      <th>Loyals</th>\n",
       "      <td>568.0</td>\n",
       "    </tr>\n",
       "    <tr>\n",
       "      <th>Loyals with Low Frequency</th>\n",
       "      <td>1231.0</td>\n",
       "    </tr>\n",
       "    <tr>\n",
       "      <th>Others</th>\n",
       "      <td>257.0</td>\n",
       "    </tr>\n",
       "  </tbody>\n",
       "</table>\n",
       "</div>"
      ],
      "text/plain": [
       "                           churn_limit\n",
       "cluster                               \n",
       "High AOV                         459.0\n",
       "Loyals                           568.0\n",
       "Loyals with Low Frequency       1231.0\n",
       "Others                           257.0"
      ]
     },
     "execution_count": 36,
     "metadata": {},
     "output_type": "execute_result"
    }
   ],
   "source": [
    "df_lifetime_flagged.groupby('cluster')[['churn_limit']].first()"
   ]
  },
  {
   "cell_type": "code",
   "execution_count": 37,
   "id": "f8e813a0-43bc-4104-a62c-d6b5014fe93b",
   "metadata": {},
   "outputs": [
    {
     "data": {
      "text/plain": [
       "cluster                    churn_status\n",
       "High AOV                   Active           2854\n",
       "                           Churn Likely      732\n",
       "Loyals                     Active           7987\n",
       "                           Churn Likely      971\n",
       "Loyals with Low Frequency  Active           2983\n",
       "Others                     Active          10209\n",
       "                           Churn Likely     4995\n",
       "Name: count, dtype: int64"
      ]
     },
     "execution_count": 37,
     "metadata": {},
     "output_type": "execute_result"
    }
   ],
   "source": [
    "df_lifetime_flagged.groupby('cluster')['churn_status'].value_counts()"
   ]
  },
  {
   "cell_type": "markdown",
   "id": "cf2bfa14-6705-4692-867b-9ee6bdfad910",
   "metadata": {},
   "source": [
    "# Concat Data"
   ]
  },
  {
   "cell_type": "code",
   "execution_count": 38,
   "id": "bcb679a9-770a-476b-ae07-902dd96ef706",
   "metadata": {},
   "outputs": [],
   "source": [
    "def concat_lifetime_cols(repeat_purchasers, df_lifetime_flagged):\n",
    "    return  pd.concat([repeat_purchasers, df_lifetime_flagged], axis=1)"
   ]
  },
  {
   "cell_type": "code",
   "execution_count": 39,
   "id": "cb0506ec-6d39-4e79-a9f5-54ec5204814b",
   "metadata": {},
   "outputs": [],
   "source": [
    "def concat_customers(repeat_purchasers_clustered, one_off_customers, inactive_users):\n",
    "    repeat_purchasers_clustered = repeat_purchasers_clustered.rename(columns={'cluster': 'segment',\n",
    "                                                                              'churn_limit': 'segment_churn_limit'})\n",
    "    one_off_customers, inactive_users = one_off_customers.copy(), inactive_users.copy()\n",
    "    one_off_customers['segment'] = 'One-Off Customers'\n",
    "    inactive_users['segment'] = 'Never Ordered'\n",
    "    customers_segmented = pd.concat([repeat_purchasers_clustered, one_off_customers, inactive_users])\\\n",
    "                            .sort_values('created_at')\n",
    "    return customers_segmented"
   ]
  },
  {
   "cell_type": "code",
   "execution_count": 40,
   "id": "b9b076c2-84f1-4823-bfbd-81c2f67d8280",
   "metadata": {},
   "outputs": [],
   "source": [
    "repeat_purchasers_clustered = concat_lifetime_cols(repeat_purchasers, df_lifetime_flagged)\n",
    "\n",
    "one_off_customers_lifetime = make_lifetime_features(one_off_customers, now)\n",
    "one_off_customers_ = one_off_customers.join(one_off_customers_lifetime)\n",
    "one_off_customers_.loc[one_off_customers_.avg_days_to_order==np.inf, 'avg_days_to_order'] = None\n",
    "\n",
    "customers_segmented = concat_customers(repeat_purchasers_clustered, one_off_customers_, inactive_users)"
   ]
  },
  {
   "cell_type": "code",
   "execution_count": 42,
   "id": "70632227-1115-48ec-bc0d-b912ec32c288",
   "metadata": {},
   "outputs": [
    {
     "data": {
      "text/plain": [
       "segment\n",
       "High AOV                      3586\n",
       "Loyals                        8958\n",
       "Loyals with Low Frequency     2983\n",
       "Never Ordered                14938\n",
       "One-Off Customers            38342\n",
       "Others                       15204\n",
       "Name: id, dtype: int64"
      ]
     },
     "execution_count": 42,
     "metadata": {},
     "output_type": "execute_result"
    }
   ],
   "source": [
    "customers_segmented.groupby(['segment'])['id'].count()"
   ]
  },
  {
   "cell_type": "code",
   "execution_count": 44,
   "id": "242912d3-dff9-488c-82ad-c8db5d92867d",
   "metadata": {},
   "outputs": [
    {
     "data": {
      "text/plain": [
       "segment                    churn_status\n",
       "High AOV                   Active           2854\n",
       "                           Churn Likely      732\n",
       "Loyals                     Active           7987\n",
       "                           Churn Likely      971\n",
       "Loyals with Low Frequency  Active           2983\n",
       "Others                     Active          10209\n",
       "                           Churn Likely     4995\n",
       "Name: id, dtype: int64"
      ]
     },
     "execution_count": 44,
     "metadata": {},
     "output_type": "execute_result"
    }
   ],
   "source": [
    "customers_segmented.groupby(['segment', 'churn_status'])['id'].count()"
   ]
  },
  {
   "cell_type": "markdown",
   "id": "c01f2424-0b83-4358-b618-89a4f4b40df4",
   "metadata": {},
   "source": [
    "# Save Pipeline "
   ]
  },
  {
   "cell_type": "code",
   "execution_count": 45,
   "id": "3a176eb0-585b-4cb9-8d34-2a73b76b39d0",
   "metadata": {},
   "outputs": [],
   "source": [
    "pipe = Pipeline([('scaler', scaler), ('kmeans', model)])"
   ]
  },
  {
   "cell_type": "code",
   "execution_count": 46,
   "id": "8e4525ba-8f83-436a-b673-a79a5189ea0f",
   "metadata": {},
   "outputs": [],
   "source": [
    "# with open('../models/cust_segment_pipe.pkl', 'wb') as f:\n",
    "#     pkl.dump(pipe, f)"
   ]
  },
  {
   "cell_type": "code",
   "execution_count": 47,
   "id": "c0c451e9-ddd1-42b1-af5e-993bd0d0f9eb",
   "metadata": {},
   "outputs": [],
   "source": [
    "with open('../models/cust_segment_pipe.pkl', 'rb') as f:\n",
    "    pipe_loaded = pkl.load(f)"
   ]
  },
  {
   "cell_type": "code",
   "execution_count": 48,
   "id": "c8f2e125-c660-49f4-88fd-ed16da7ac475",
   "metadata": {},
   "outputs": [
    {
     "data": {
      "text/plain": [
       "np.True_"
      ]
     },
     "execution_count": 48,
     "metadata": {},
     "output_type": "execute_result"
    }
   ],
   "source": [
    "y = pipe_loaded.predict(X_raw)\n",
    "(y == model.labels_).all()"
   ]
  },
  {
   "cell_type": "code",
   "execution_count": 49,
   "id": "58fb70cb-e887-489d-a966-9b462a6ccc0e",
   "metadata": {},
   "outputs": [],
   "source": [
    "with open('../models/cust_segment_map.json', 'w') as f:\n",
    "    json.dump(segment_map, f)"
   ]
  },
  {
   "cell_type": "code",
   "execution_count": 50,
   "id": "0db0eae7-7f8b-4da9-8358-d2888fcc3ffa",
   "metadata": {},
   "outputs": [],
   "source": [
    "with open('../models/cust_segment_map.json', 'r') as f:\n",
    "    segment_map_ = json.load(f)"
   ]
  },
  {
   "cell_type": "code",
   "execution_count": 51,
   "id": "910385f4-e62e-48ad-90ae-a2e3b5d216f1",
   "metadata": {},
   "outputs": [
    {
     "data": {
      "text/plain": [
       "{'0': 'Loyals',\n",
       " '1': 'High AOV',\n",
       " '2': 'Others',\n",
       " '3': 'Loyals with Low Frequency'}"
      ]
     },
     "execution_count": 51,
     "metadata": {},
     "output_type": "execute_result"
    }
   ],
   "source": [
    "segment_map_"
   ]
  },
  {
   "cell_type": "code",
   "execution_count": null,
   "id": "9023cd1a-803f-4693-86be-3d30288f41c3",
   "metadata": {},
   "outputs": [],
   "source": []
  }
 ],
 "metadata": {
  "kernelspec": {
   "display_name": "Python 3 (ipykernel)",
   "language": "python",
   "name": "python3"
  },
  "language_info": {
   "codemirror_mode": {
    "name": "ipython",
    "version": 3
   },
   "file_extension": ".py",
   "mimetype": "text/x-python",
   "name": "python",
   "nbconvert_exporter": "python",
   "pygments_lexer": "ipython3",
   "version": "3.13.1"
  }
 },
 "nbformat": 4,
 "nbformat_minor": 5
}
